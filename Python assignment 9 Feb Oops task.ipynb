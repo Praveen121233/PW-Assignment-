{
 "cells": [
  {
   "cell_type": "markdown",
   "id": "1e6056e6",
   "metadata": {},
   "source": [
    "Q1. Create a vehicle class with an __init__ method having instance variables as name_of_vehicle, max_speed, and average_of_vehicle."
   ]
  },
  {
   "cell_type": "code",
   "execution_count": 1,
   "id": "217fcfe9",
   "metadata": {},
   "outputs": [
    {
     "name": "stdout",
     "output_type": "stream",
     "text": [
      "Name: Car\n",
      "Max Speed: 180 km/h\n",
      "Average: 15 km/l\n"
     ]
    }
   ],
   "source": [
    "class Vehicle:\n",
    "    def __init__(self, name_of_vehicle, max_speed, average_of_vehicle):\n",
    "        self.name_of_vehicle = name_of_vehicle\n",
    "        self.max_speed = max_speed\n",
    "        self.average_of_vehicle = average_of_vehicle\n",
    "\n",
    "# Example usage\n",
    "vehicle = Vehicle(\"Car\", 180, 15)\n",
    "print(f\"Name: {vehicle.name_of_vehicle}\")\n",
    "print(f\"Max Speed: {vehicle.max_speed} km/h\")\n",
    "print(f\"Average: {vehicle.average_of_vehicle} km/l\")"
   ]
  },
  {
   "cell_type": "markdown",
   "id": "c00d66df",
   "metadata": {},
   "source": [
    "Q2. Create a child class Car from the Vehicle class created in Q1, which will inherit the Vehicle class. Create a method named seating_capacity which takes capacity as an argument and returns the name of the vehicle and its seating capacity."
   ]
  },
  {
   "cell_type": "code",
   "execution_count": 2,
   "id": "d3abb6f8",
   "metadata": {},
   "outputs": [
    {
     "name": "stdout",
     "output_type": "stream",
     "text": [
      "The Sedan has a seating capacity of 5.\n"
     ]
    }
   ],
   "source": [
    "class Vehicle:\n",
    "    def __init__(self, name_of_vehicle, max_speed, average_of_vehicle):\n",
    "        self.name_of_vehicle = name_of_vehicle\n",
    "        self.max_speed = max_speed\n",
    "        self.average_of_vehicle = average_of_vehicle\n",
    "\n",
    "class Car(Vehicle):\n",
    "    def seating_capacity(self, capacity):\n",
    "        return f\"The {self.name_of_vehicle} has a seating capacity of {capacity}.\"\n",
    "\n",
    "# Example usage\n",
    "car = Car(\"Sedan\", 200, 12)\n",
    "print(car.seating_capacity(5))"
   ]
  },
  {
   "cell_type": "markdown",
   "id": "3183b1c4",
   "metadata": {},
   "source": [
    "Q3. What is multiple inheritance? Write a Python code to demonstrate multiple inheritance.\n",
    "\n",
    "Multiple Inheritance:  Multiple inheritance is a feature in object-oriented programming where a class can inherit attributes and methods from more than one parent class."
   ]
  },
  {
   "cell_type": "code",
   "execution_count": 3,
   "id": "6a813a98",
   "metadata": {},
   "outputs": [
    {
     "name": "stdout",
     "output_type": "stream",
     "text": [
      "This vehicle has an engine.\n",
      "This vehicle has wheels.\n",
      "This is a car.\n"
     ]
    }
   ],
   "source": [
    "class Engine:\n",
    "    def has_engine(self):\n",
    "        return \"This vehicle has an engine.\"\n",
    "\n",
    "class Wheels:\n",
    "    def has_wheels(self):\n",
    "        return \"This vehicle has wheels.\"\n",
    "\n",
    "class Car(Engine, Wheels):\n",
    "    def type(self):\n",
    "        return \"This is a car.\"\n",
    "\n",
    "# Example usage\n",
    "car = Car()\n",
    "print(car.has_engine())\n",
    "print(car.has_wheels())\n",
    "print(car.type())\n"
   ]
  },
  {
   "cell_type": "markdown",
   "id": "729ecf6c",
   "metadata": {},
   "source": [
    "Q4. What are getter and setter in Python? Create a class and create a getter and a setter method in this class.\n",
    "\n",
    "Getters and Setters: Getters and setters are methods used to access and update the private attributes of a class. They provide a controlled way of accessing and modifying the data."
   ]
  },
  {
   "cell_type": "code",
   "execution_count": 4,
   "id": "bd43817e",
   "metadata": {},
   "outputs": [
    {
     "name": "stdout",
     "output_type": "stream",
     "text": [
      "Alice\n",
      "Bob\n"
     ]
    }
   ],
   "source": [
    "class Person:\n",
    "    def __init__(self, name):\n",
    "        self.__name = name\n",
    "\n",
    "    # Getter method\n",
    "    def get_name(self):\n",
    "        return self.__name\n",
    "\n",
    "    # Setter method\n",
    "    def set_name(self, name):\n",
    "        self.__name = name\n",
    "\n",
    "# Example usage\n",
    "person = Person(\"Alice\")\n",
    "print(person.get_name())\n",
    "\n",
    "person.set_name(\"Bob\")\n",
    "print(person.get_name())"
   ]
  },
  {
   "cell_type": "markdown",
   "id": "545a23c1",
   "metadata": {},
   "source": [
    "Q5. What is method overriding in Python? Write a Python code to demonstrate method overriding.\n",
    "\n",
    "\n",
    "Method Overriding: Method overriding occurs when a subclass provides a specific implementation of a method that is already defined in its superclass. The overridden method in the subclass has the same name, parameters, and type as the method in the superclass."
   ]
  },
  {
   "cell_type": "code",
   "execution_count": 5,
   "id": "11614940",
   "metadata": {},
   "outputs": [
    {
     "name": "stdout",
     "output_type": "stream",
     "text": [
      "Some generic animal sound\n",
      "Bark\n",
      "Meow\n"
     ]
    }
   ],
   "source": [
    "class Animal:\n",
    "    def make_sound(self):\n",
    "        return \"Some generic animal sound\"\n",
    "\n",
    "class Dog(Animal):\n",
    "    def make_sound(self):\n",
    "        return \"Bark\"\n",
    "\n",
    "class Cat(Animal):\n",
    "    def make_sound(self):\n",
    "        return \"Meow\"\n",
    "\n",
    "# Example usage\n",
    "animal = Animal()\n",
    "dog = Dog()\n",
    "cat = Cat()\n",
    "\n",
    "print(animal.make_sound())\n",
    "print(dog.make_sound())\n",
    "print(cat.make_sound())\n"
   ]
  },
  {
   "cell_type": "code",
   "execution_count": null,
   "id": "f879d074",
   "metadata": {},
   "outputs": [],
   "source": []
  }
 ],
 "metadata": {
  "kernelspec": {
   "display_name": "Python 3 (ipykernel)",
   "language": "python",
   "name": "python3"
  },
  "language_info": {
   "codemirror_mode": {
    "name": "ipython",
    "version": 3
   },
   "file_extension": ".py",
   "mimetype": "text/x-python",
   "name": "python",
   "nbconvert_exporter": "python",
   "pygments_lexer": "ipython3",
   "version": "3.10.9"
  }
 },
 "nbformat": 4,
 "nbformat_minor": 5
}
