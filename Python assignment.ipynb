{
 "cells": [
  {
   "cell_type": "markdown",
   "id": "538b4c91",
   "metadata": {},
   "source": [
    "Q1. Create one variable containing the following types of data:"
   ]
  },
  {
   "cell_type": "code",
   "execution_count": 1,
   "id": "28b168b3",
   "metadata": {},
   "outputs": [
    {
     "name": "stdout",
     "output_type": "stream",
     "text": [
      "Hello, World!\n",
      "[1, 2, 3, 4, 5]\n",
      "3.14\n",
      "(10, 20, 30)\n"
     ]
    }
   ],
   "source": [
    "# Creating a variable with different types of data\n",
    "data = {\n",
    "    \"string\": \"Hello, World!\",\n",
    "    \"list\": [1, 2, 3, 4, 5],\n",
    "    \"float\": 3.14,\n",
    "    \"tuple\": (10, 20, 30)\n",
    "}\n",
    "\n",
    "# Accessing each type\n",
    "print(data[\"string\"])  # Output: Hello, World!\n",
    "print(data[\"list\"])    # Output: [1, 2, 3, 4, 5]\n",
    "print(data[\"float\"])   # Output: 3.14\n",
    "print(data[\"tuple\"])   # Output: (10, 20, 30)"
   ]
  },
  {
   "cell_type": "markdown",
   "id": "1d5e30d7",
   "metadata": {},
   "source": [
    "Q2. Given the following variables containing data, what will be their data type?"
   ]
  },
  {
   "cell_type": "code",
   "execution_count": 5,
   "id": "fabcb9c3",
   "metadata": {},
   "outputs": [
    {
     "name": "stdout",
     "output_type": "stream",
     "text": [
      "<class 'str'>\n",
      "<class 'str'>\n",
      "<class 'list'>\n",
      "<class 'float'>\n"
     ]
    }
   ],
   "source": [
    "var1 = ' '\n",
    "print(type(var1))\n",
    "var2 = '[ DS , ML , Python]'\n",
    "print(type(var2))\n",
    "var3 = ['DS', 'ML', 'Python']\n",
    "print(type(var3))\n",
    "var4 = 1.\n",
    "print(type(var4))"
   ]
  },
  {
   "cell_type": "markdown",
   "id": "6180d42d",
   "metadata": {},
   "source": [
    "Q3. Explain the use of the following operators using an example:"
   ]
  },
  {
   "cell_type": "markdown",
   "id": "bc0a7b89",
   "metadata": {},
   "source": [
    "(i) / (Division):\n",
    "\n",
    "Ans. Divides the left-hand operand by the right-hand operand and returns the quotient as a float."
   ]
  },
  {
   "cell_type": "code",
   "execution_count": 6,
   "id": "5e9910f7",
   "metadata": {},
   "outputs": [
    {
     "name": "stdout",
     "output_type": "stream",
     "text": [
      "3.3333333333333335\n"
     ]
    }
   ],
   "source": [
    "result = 10 / 3\n",
    "print(result)"
   ]
  },
  {
   "cell_type": "markdown",
   "id": "4e42c534",
   "metadata": {},
   "source": [
    "(ii) % (Modulus):\n",
    "\n",
    "Ans. Returns the remainder when the left-hand operand is divided by the right-hand operand."
   ]
  },
  {
   "cell_type": "code",
   "execution_count": 7,
   "id": "4f9b47de",
   "metadata": {},
   "outputs": [
    {
     "name": "stdout",
     "output_type": "stream",
     "text": [
      "1\n"
     ]
    }
   ],
   "source": [
    "remainder = 10 % 3\n",
    "print(remainder)"
   ]
  },
  {
   "cell_type": "markdown",
   "id": "dc2944cd",
   "metadata": {},
   "source": [
    "(iii) // (Floor Division):\n",
    "\n",
    "Ans. Divides the left-hand operand by the right-hand operand and returns the largest integer less than or equal to the quotient."
   ]
  },
  {
   "cell_type": "code",
   "execution_count": 8,
   "id": "70ccf875",
   "metadata": {},
   "outputs": [
    {
     "name": "stdout",
     "output_type": "stream",
     "text": [
      "3\n"
     ]
    }
   ],
   "source": [
    "result = 10 // 3\n",
    "print(result)"
   ]
  },
  {
   "cell_type": "markdown",
   "id": "909dac71",
   "metadata": {},
   "source": [
    "(iv) ** (Exponentiation):\n",
    "\n",
    "Ans. Raises the left-hand operand to the power of the right-hand operand."
   ]
  },
  {
   "cell_type": "code",
   "execution_count": 9,
   "id": "d88aebcc",
   "metadata": {},
   "outputs": [
    {
     "name": "stdout",
     "output_type": "stream",
     "text": [
      "8\n"
     ]
    }
   ],
   "source": [
    "result = 2 ** 3\n",
    "print(result)"
   ]
  },
  {
   "cell_type": "markdown",
   "id": "2c7734ed",
   "metadata": {},
   "source": [
    "Q4. Create a list of length 10 containing multiple types of data. Using a for loop, print the element and its data type."
   ]
  },
  {
   "cell_type": "code",
   "execution_count": 10,
   "id": "5231fcc7",
   "metadata": {},
   "outputs": [
    {
     "name": "stdout",
     "output_type": "stream",
     "text": [
      "Element: 1, Data Type: <class 'int'>\n",
      "Element: 3.14, Data Type: <class 'float'>\n",
      "Element: Hello, Data Type: <class 'str'>\n",
      "Element: True, Data Type: <class 'bool'>\n",
      "Element: None, Data Type: <class 'NoneType'>\n",
      "Element: [1, 2, 3], Data Type: <class 'list'>\n",
      "Element: {'key': 'value'}, Data Type: <class 'dict'>\n",
      "Element: (10, 20), Data Type: <class 'tuple'>\n",
      "Element: {1, 2, 3}, Data Type: <class 'set'>\n",
      "Element: b'byte', Data Type: <class 'bytes'>\n"
     ]
    }
   ],
   "source": [
    "# Creating a list with multiple types of data\n",
    "mixed_list = [1, 3.14, \"Hello\", True, None, [1, 2, 3], {\"key\": \"value\"}, (10, 20), {1, 2, 3}, b'byte']\n",
    "\n",
    "# Using a for loop to print each element and its data type\n",
    "for item in mixed_list:\n",
    "    print(f\"Element: {item}, Data Type: {type(item)}\")"
   ]
  },
  {
   "cell_type": "markdown",
   "id": "6579980c",
   "metadata": {},
   "source": [
    "Q5. Using a while loop, verify if the number A is purely divisible by number B and if so then how many times it can be divisible."
   ]
  },
  {
   "cell_type": "code",
   "execution_count": 11,
   "id": "fe372a78",
   "metadata": {},
   "outputs": [
    {
     "name": "stdout",
     "output_type": "stream",
     "text": [
      "The number can be divisible 2 times.\n"
     ]
    }
   ],
   "source": [
    "# Example values for A and B\n",
    "A = 48\n",
    "B = 4\n",
    "\n",
    "count = 0\n",
    "while A % B == 0:\n",
    "    A = A // B\n",
    "    count += 1\n",
    "\n",
    "print(f\"The number can be divisible {count} times.\")"
   ]
  },
  {
   "cell_type": "markdown",
   "id": "dfa164ca",
   "metadata": {},
   "source": [
    "Q6. Create a list containing 25 int type data. Using a for loop and if-else condition, print if the element is divisible by 3 or not."
   ]
  },
  {
   "cell_type": "code",
   "execution_count": 12,
   "id": "c98b79ac",
   "metadata": {},
   "outputs": [
    {
     "name": "stdout",
     "output_type": "stream",
     "text": [
      "1 is not divisible by 3\n",
      "2 is not divisible by 3\n",
      "3 is divisible by 3\n",
      "4 is not divisible by 3\n",
      "5 is not divisible by 3\n",
      "6 is divisible by 3\n",
      "7 is not divisible by 3\n",
      "8 is not divisible by 3\n",
      "9 is divisible by 3\n",
      "10 is not divisible by 3\n",
      "11 is not divisible by 3\n",
      "12 is divisible by 3\n",
      "13 is not divisible by 3\n",
      "14 is not divisible by 3\n",
      "15 is divisible by 3\n",
      "16 is not divisible by 3\n",
      "17 is not divisible by 3\n",
      "18 is divisible by 3\n",
      "19 is not divisible by 3\n",
      "20 is not divisible by 3\n",
      "21 is divisible by 3\n",
      "22 is not divisible by 3\n",
      "23 is not divisible by 3\n",
      "24 is divisible by 3\n",
      "25 is not divisible by 3\n"
     ]
    }
   ],
   "source": [
    "# Creating a list of 25 integers\n",
    "int_list = [i for i in range(1, 26)]\n",
    "\n",
    "# Checking divisibility by 3 using a for loop\n",
    "for num in int_list:\n",
    "    if num % 3 == 0:\n",
    "        print(f\"{num} is divisible by 3\")\n",
    "    else:\n",
    "        print(f\"{num} is not divisible by 3\")"
   ]
  },
  {
   "cell_type": "markdown",
   "id": "9f243f9c",
   "metadata": {},
   "source": [
    "Q7. What do you understand about mutable and immutable data types? Give examples for both showing this property."
   ]
  },
  {
   "cell_type": "markdown",
   "id": "19ccee98",
   "metadata": {},
   "source": [
    "Answer:\n",
    "\n",
    "Mutable Data Types: These are data types whose values can be changed after they are created. For example, lists and dictionaries."
   ]
  },
  {
   "cell_type": "code",
   "execution_count": 13,
   "id": "e7f97c90",
   "metadata": {},
   "outputs": [
    {
     "name": "stdout",
     "output_type": "stream",
     "text": [
      "[100, 2, 3]\n"
     ]
    }
   ],
   "source": [
    "my_list = [1, 2, 3]\n",
    "my_list[0] = 100\n",
    "print(my_list)"
   ]
  },
  {
   "cell_type": "markdown",
   "id": "2df8b878",
   "metadata": {},
   "source": [
    "Answer:\n",
    "    \n",
    "Immutable Data Types: These are data types whose values cannot be changed after they are created. For example, strings and tuples."
   ]
  },
  {
   "cell_type": "code",
   "execution_count": 14,
   "id": "a3da2e60",
   "metadata": {},
   "outputs": [
    {
     "name": "stdout",
     "output_type": "stream",
     "text": [
      "(1, 2, 3)\n"
     ]
    }
   ],
   "source": [
    "my_tuple = (1, 2, 3)\n",
    "# my_tuple[0] = 100\n",
    "print(my_tuple)"
   ]
  },
  {
   "cell_type": "code",
   "execution_count": null,
   "id": "6cb13f44",
   "metadata": {},
   "outputs": [],
   "source": []
  }
 ],
 "metadata": {
  "kernelspec": {
   "display_name": "Python 3 (ipykernel)",
   "language": "python",
   "name": "python3"
  },
  "language_info": {
   "codemirror_mode": {
    "name": "ipython",
    "version": 3
   },
   "file_extension": ".py",
   "mimetype": "text/x-python",
   "name": "python",
   "nbconvert_exporter": "python",
   "pygments_lexer": "ipython3",
   "version": "3.10.9"
  }
 },
 "nbformat": 4,
 "nbformat_minor": 5
}
