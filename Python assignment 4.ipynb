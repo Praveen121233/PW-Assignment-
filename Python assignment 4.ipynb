{
 "cells": [
  {
   "cell_type": "markdown",
   "id": "d773d919",
   "metadata": {},
   "source": [
    "Q1. Explain Class and Object with respect to Object-Oriented Programming. Give a suitable example."
   ]
  },
  {
   "cell_type": "raw",
   "id": "9724e139",
   "metadata": {},
   "source": [
    "Class: A class is a blueprint for creating objects. It defines a set of attributes and methods that the objects created from the class will have. It serves as a template for objects.\n",
    "\n",
    "Object: An object is an instance of a class. It represents a specific realization of the class, containing actual values for the attributes defined in the class."
   ]
  },
  {
   "cell_type": "code",
   "execution_count": 1,
   "id": "a651b569",
   "metadata": {},
   "outputs": [
    {
     "name": "stdout",
     "output_type": "stream",
     "text": [
      "Buddy\n",
      "Buddy barks!\n"
     ]
    }
   ],
   "source": [
    "# Define a class\n",
    "class Dog:\n",
    "    def __init__(self, name, age):\n",
    "        self.name = name\n",
    "        self.age = age\n",
    "\n",
    "    def bark(self):\n",
    "        return f\"{self.name} barks!\"\n",
    "\n",
    "# Create objects from the class\n",
    "dog1 = Dog(\"Buddy\", 3)\n",
    "dog2 = Dog(\"Max\", 5)\n",
    "\n",
    "# Access attributes and methods\n",
    "print(dog1.name)\n",
    "print(dog1.bark())"
   ]
  },
  {
   "cell_type": "markdown",
   "id": "87e83cb1",
   "metadata": {},
   "source": [
    "Q2. Name the four pillars of OOPs.\n",
    "\n",
    "1-Encapsulation - Bundling data (attributes) and methods that operate on the data into a single unit or class, and restricting access to some of the object's components.\n",
    "\n",
    "2-Abstraction - Hiding complex implementation details and showing only the necessary features of an object.\n",
    "\n",
    "3-Inheritance - Creating a new class from an existing class, inheriting its attributes and methods.\n",
    "\n",
    "4-Polymorphism - Allowing methods to do different things based on the object it is acting upon, or allowing different classes to share the same method name with different implementations."
   ]
  },
  {
   "cell_type": "markdown",
   "id": "e733487c",
   "metadata": {},
   "source": [
    "Q3. Explain why the __init__() function is used. Give a suitable example."
   ]
  },
  {
   "cell_type": "markdown",
   "id": "93c7784c",
   "metadata": {},
   "source": [
    "Ans. __init__() Function: The __init__() function is a special method called a constructor in Python. It is automatically called when a new instance of a class is created. It initializes the object's attributes with the values provided."
   ]
  },
  {
   "cell_type": "code",
   "execution_count": 2,
   "id": "6cd7a363",
   "metadata": {},
   "outputs": [
    {
     "name": "stdout",
     "output_type": "stream",
     "text": [
      "Toyota\n",
      "Corolla\n"
     ]
    }
   ],
   "source": [
    "class Car:\n",
    "    def __init__(self, brand, model):\n",
    "        self.brand = brand\n",
    "        self.model = model\n",
    "\n",
    "# Creating an object of the Car class\n",
    "car1 = Car(\"Toyota\", \"Corolla\")\n",
    "\n",
    "# Accessing attributes\n",
    "print(car1.brand)\n",
    "print(car1.model)"
   ]
  },
  {
   "cell_type": "markdown",
   "id": "2f8d7e50",
   "metadata": {},
   "source": [
    "Q4. Why self is used in OOPs?\n",
    "\n",
    "Ans. self: The self keyword represents the instance of the class. It is used to access the attributes and methods of the class in Python. self allows each instance of a class to keep track of its own data and methods."
   ]
  },
  {
   "cell_type": "code",
   "execution_count": 3,
   "id": "429fa4ad",
   "metadata": {},
   "outputs": [
    {
     "name": "stdout",
     "output_type": "stream",
     "text": [
      "Hello, my name is Alice and I am 30 years old.\n"
     ]
    }
   ],
   "source": [
    "class Person:\n",
    "    def __init__(self, name, age):\n",
    "        self.name = name\n",
    "        self.age = age\n",
    "\n",
    "    def greet(self):\n",
    "        return f\"Hello, my name is {self.name} and I am {self.age} years old.\"\n",
    "\n",
    "# Creating an object of the Person class\n",
    "person1 = Person(\"Alice\", 30)\n",
    "\n",
    "# Calling the greet method\n",
    "print(person1.greet())"
   ]
  },
  {
   "cell_type": "markdown",
   "id": "52e0e890",
   "metadata": {},
   "source": [
    "Q5. What is inheritance? Give an example for each type of inheritance.\n",
    "\n",
    "\n",
    "Inheritance: Inheritance is a mechanism in OOP that allows a new class (child or subclass) to inherit attributes and methods from an existing class (parent or superclass). It promotes code reusability and establishes a hierarchical relationship between classes."
   ]
  },
  {
   "cell_type": "markdown",
   "id": "fdedb124",
   "metadata": {},
   "source": [
    "Types of Inheritance:"
   ]
  },
  {
   "cell_type": "code",
   "execution_count": 4,
   "id": "f952188e",
   "metadata": {},
   "outputs": [
    {
     "name": "stdout",
     "output_type": "stream",
     "text": [
      "Animal sound\n",
      "Woof!\n"
     ]
    }
   ],
   "source": [
    "# 1 Single Inheritance: A subclass inherits from a single parent class.\n",
    "\n",
    "class Animal:\n",
    "    def speak(self):\n",
    "        return \"Animal sound\"\n",
    "\n",
    "class Dog(Animal):\n",
    "    def bark(self):\n",
    "        return \"Woof!\"\n",
    "\n",
    "dog = Dog()\n",
    "print(dog.speak())\n",
    "print(dog.bark())"
   ]
  },
  {
   "cell_type": "code",
   "execution_count": 5,
   "id": "4890124c",
   "metadata": {},
   "outputs": [
    {
     "name": "stdout",
     "output_type": "stream",
     "text": [
      "Father's skills: Gardening, Cooking, Mother's skills: Painting, Singing\n"
     ]
    }
   ],
   "source": [
    "# 2 Multiple Inheritance: A subclass inherits from more than one parent class.\n",
    "\n",
    "class Father:\n",
    "    def skills(self):\n",
    "        return \"Gardening, Cooking\"\n",
    "\n",
    "class Mother:\n",
    "    def skills(self):\n",
    "        return \"Painting, Singing\"\n",
    "\n",
    "class Child(Father, Mother):\n",
    "    def all_skills(self):\n",
    "        return f\"Father's skills: {Father.skills(self)}, Mother's skills: {Mother.skills(self)}\"\n",
    "\n",
    "child = Child()\n",
    "print(child.all_skills())"
   ]
  },
  {
   "cell_type": "code",
   "execution_count": 6,
   "id": "47ef9cc6",
   "metadata": {},
   "outputs": [
    {
     "name": "stdout",
     "output_type": "stream",
     "text": [
      "Family Legacy\n",
      "Teacher\n",
      "Reading\n"
     ]
    }
   ],
   "source": [
    "# 3 Multilevel Inheritance: A subclass inherits from another subclass.\n",
    "\n",
    "class Grandparent:\n",
    "    def legacy(self):\n",
    "        return \"Family Legacy\"\n",
    "\n",
    "class Parent(Grandparent):\n",
    "    def profession(self):\n",
    "        return \"Teacher\"\n",
    "\n",
    "class Child(Parent):\n",
    "    def hobby(self):\n",
    "        return \"Reading\"\n",
    "\n",
    "child = Child()\n",
    "print(child.legacy())\n",
    "print(child.profession())\n",
    "print(child.hobby())"
   ]
  },
  {
   "cell_type": "code",
   "execution_count": 7,
   "id": "270eac2f",
   "metadata": {},
   "outputs": [
    {
     "name": "stdout",
     "output_type": "stream",
     "text": [
      "Driving\n",
      "Car\n",
      "Driving\n",
      "Bike\n"
     ]
    }
   ],
   "source": [
    "# 4 Hierarchical Inheritance: Multiple subclasses inherit from a single parent class.\n",
    "\n",
    "class Vehicle:\n",
    "    def drive(self):\n",
    "        return \"Driving\"\n",
    "\n",
    "class Car(Vehicle):\n",
    "    def type(self):\n",
    "        return \"Car\"\n",
    "\n",
    "class Bike(Vehicle):\n",
    "    def type(self):\n",
    "        return \"Bike\"\n",
    "\n",
    "car = Car()\n",
    "bike = Bike()\n",
    "\n",
    "print(car.drive())\n",
    "print(car.type())\n",
    "\n",
    "print(bike.drive())\n",
    "print(bike.type())\n"
   ]
  },
  {
   "cell_type": "code",
   "execution_count": 8,
   "id": "05c87b70",
   "metadata": {},
   "outputs": [
    {
     "name": "stdout",
     "output_type": "stream",
     "text": [
      "Class A\n",
      "Class B\n",
      "Class C\n",
      "Class D\n"
     ]
    }
   ],
   "source": [
    "# 5 Hybrid Inheritance: A combination of two or more types of inheritance.\n",
    "\n",
    "class A:\n",
    "    def methodA(self):\n",
    "        return \"Class A\"\n",
    "\n",
    "class B(A):\n",
    "    def methodB(self):\n",
    "        return \"Class B\"\n",
    "\n",
    "class C(A):\n",
    "    def methodC(self):\n",
    "        return \"Class C\"\n",
    "\n",
    "class D(B, C):\n",
    "    def methodD(self):\n",
    "        return \"Class D\"\n",
    "\n",
    "d = D()\n",
    "print(d.methodA())\n",
    "print(d.methodB())\n",
    "print(d.methodC())\n",
    "print(d.methodD())"
   ]
  },
  {
   "cell_type": "code",
   "execution_count": null,
   "id": "34720089",
   "metadata": {},
   "outputs": [],
   "source": []
  }
 ],
 "metadata": {
  "kernelspec": {
   "display_name": "Python 3 (ipykernel)",
   "language": "python",
   "name": "python3"
  },
  "language_info": {
   "codemirror_mode": {
    "name": "ipython",
    "version": 3
   },
   "file_extension": ".py",
   "mimetype": "text/x-python",
   "name": "python",
   "nbconvert_exporter": "python",
   "pygments_lexer": "ipython3",
   "version": "3.10.9"
  }
 },
 "nbformat": 4,
 "nbformat_minor": 5
}
