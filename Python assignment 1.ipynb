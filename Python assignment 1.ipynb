{
 "cells": [
  {
   "cell_type": "markdown",
   "id": "38dabf61",
   "metadata": {},
   "source": [
    "Q1. How do you comment code in Python? What are the different types of comments?"
   ]
  },
  {
   "cell_type": "markdown",
   "id": "f1280d85",
   "metadata": {},
   "source": [
    "Ans. In Python, you comment code using the # symbol for single-line comments. Multi-line comments can be written using triple quotes ''' or \"\"\", though these are typically used for docstrings."
   ]
  },
  {
   "cell_type": "markdown",
   "id": "4861a48b",
   "metadata": {},
   "source": [
    "Q2. What are variables in Python? How do you declare and assign values to variables?"
   ]
  },
  {
   "cell_type": "markdown",
   "id": "5df5a814",
   "metadata": {},
   "source": [
    "Ans. Variables in Python are names used to store data values. You declare and assign values to variables by using the equals sign =. For example, x = 10."
   ]
  },
  {
   "cell_type": "markdown",
   "id": "96c65efb",
   "metadata": {},
   "source": [
    "Q3. How do you convert one data type to another in Python?"
   ]
  },
  {
   "cell_type": "markdown",
   "id": "9bcff5c2",
   "metadata": {},
   "source": [
    "Ans. You can convert data types using built-in functions like int(), float(), str(), list(), etc. For example, int('5') converts the string '5' to an integer."
   ]
  },
  {
   "cell_type": "markdown",
   "id": "a8cbccfe",
   "metadata": {},
   "source": [
    "Q4. How do you write and execute a Python script from the command line?"
   ]
  },
  {
   "cell_type": "markdown",
   "id": "f4e353ca",
   "metadata": {},
   "source": [
    "Ans. Write the script in a .py file and then execute it by navigating to the file's directory in the command line and typing python script_name.py."
   ]
  },
  {
   "cell_type": "markdown",
   "id": "bcd983c5",
   "metadata": {},
   "source": [
    "Q5. Given a list my_list = [1, 2, 3, 4, 5], write the code to slice the list and obtain the sub-list '[2, 3]'."
   ]
  },
  {
   "cell_type": "code",
   "execution_count": 4,
   "id": "874f5e04",
   "metadata": {},
   "outputs": [
    {
     "data": {
      "text/plain": [
       "[2, 3]"
      ]
     },
     "execution_count": 4,
     "metadata": {},
     "output_type": "execute_result"
    }
   ],
   "source": [
    "my_list = [1, 2, 3, 4, 5]\n",
    "sub_list = my_list[1:3]\n",
    "sub_list"
   ]
  },
  {
   "cell_type": "markdown",
   "id": "d7a56cc0",
   "metadata": {},
   "source": [
    "Q6. What is a complex number in mathematics, and how is it represented in Python?"
   ]
  },
  {
   "cell_type": "markdown",
   "id": "eb3511d3",
   "metadata": {},
   "source": [
    "Ans. A complex number consists of a real part and an imaginary part (e.g., 3 + 4i). In Python, it's represented as 3 + 4j."
   ]
  },
  {
   "cell_type": "markdown",
   "id": "e426040d",
   "metadata": {},
   "source": [
    "Q7. What is the correct way to declare a variable named age and assign the value 25 to it?"
   ]
  },
  {
   "cell_type": "code",
   "execution_count": 5,
   "id": "7b8aeab8",
   "metadata": {},
   "outputs": [
    {
     "data": {
      "text/plain": [
       "25"
      ]
     },
     "execution_count": 5,
     "metadata": {},
     "output_type": "execute_result"
    }
   ],
   "source": [
    "age = 25\n",
    "age"
   ]
  },
  {
   "cell_type": "markdown",
   "id": "65f78968",
   "metadata": {},
   "source": [
    "Q8. Declare a variable named price and assign the value 9.99 to it. What data type does this variable belong to?"
   ]
  },
  {
   "cell_type": "code",
   "execution_count": 11,
   "id": "69e668c7",
   "metadata": {},
   "outputs": [
    {
     "name": "stdout",
     "output_type": "stream",
     "text": [
      "<class 'float'>\n"
     ]
    }
   ],
   "source": [
    "price = 9.99\n",
    "print(type(price))"
   ]
  },
  {
   "cell_type": "markdown",
   "id": "413858c6",
   "metadata": {},
   "source": [
    "Q9. Create a variable named name and assign your full name to it as a string. How would you print the value of this variable?"
   ]
  },
  {
   "cell_type": "code",
   "execution_count": 12,
   "id": "d10773b2",
   "metadata": {},
   "outputs": [
    {
     "name": "stdout",
     "output_type": "stream",
     "text": [
      "Praveen Kumar Shukl\n"
     ]
    }
   ],
   "source": [
    "named= \"Praveen Kumar Shukl\"\n",
    "print(named)"
   ]
  },
  {
   "cell_type": "markdown",
   "id": "1b3cf9ec",
   "metadata": {},
   "source": [
    "Q10. Given the string \"Hello, World!\", extract the substring `\"World\""
   ]
  },
  {
   "cell_type": "code",
   "execution_count": 14,
   "id": "9c16e18c",
   "metadata": {},
   "outputs": [
    {
     "data": {
      "text/plain": [
       "'World'"
      ]
     },
     "execution_count": 14,
     "metadata": {},
     "output_type": "execute_result"
    }
   ],
   "source": [
    "substring = \"Hello, World!\"[7:12]\n",
    "substring"
   ]
  },
  {
   "cell_type": "markdown",
   "id": "b6418ced",
   "metadata": {},
   "source": [
    "Q11. Create a variable named \"is_student\" and assign it a boolean value indicating whether you are currently a student or not."
   ]
  },
  {
   "cell_type": "markdown",
   "id": "866e7b86",
   "metadata": {},
   "source": [
    "Ans. is_student = True or is_student = False, depending on your current status."
   ]
  },
  {
   "cell_type": "code",
   "execution_count": null,
   "id": "344efa1c",
   "metadata": {},
   "outputs": [],
   "source": []
  }
 ],
 "metadata": {
  "kernelspec": {
   "display_name": "Python 3 (ipykernel)",
   "language": "python",
   "name": "python3"
  },
  "language_info": {
   "codemirror_mode": {
    "name": "ipython",
    "version": 3
   },
   "file_extension": ".py",
   "mimetype": "text/x-python",
   "name": "python",
   "nbconvert_exporter": "python",
   "pygments_lexer": "ipython3",
   "version": "3.10.9"
  }
 },
 "nbformat": 4,
 "nbformat_minor": 5
}
